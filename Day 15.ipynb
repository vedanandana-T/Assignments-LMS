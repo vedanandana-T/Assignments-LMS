{
 "cells": [
  {
   "cell_type": "code",
   "execution_count": 1,
   "id": "3627ab45-eae0-4ef8-b365-9c04207a44b1",
   "metadata": {},
   "outputs": [
    {
     "name": "stdout",
     "output_type": "stream",
     "text": [
      "Extracted email addresses: ['support@example.com', 'sales@example.org']\n"
     ]
    }
   ],
   "source": [
    "import re\n",
    "\n",
    "def extract_emails(input_string):\n",
    "    \"\"\"\n",
    "    Extract all email addresses from the input string using regular expressions.\n",
    "    \n",
    "    Args:\n",
    "        input_string (str): The string containing email addresses.\n",
    "        \n",
    "    Returns:\n",
    "        list: A list of email addresses found in the string.\n",
    "    \"\"\"\n",
    "  \n",
    "    email_pattern = r'[a-zA-Z0-9._%+-]+@[a-zA-Z0-9.-]+\\.[a-zA-Z]{2,}'\n",
    "    \n",
    "    emails = re.findall(email_pattern, input_string)\n",
    "    return emails\n",
    "\n",
    "\n",
    "test_string = 'Contact us at support@example.com and sales@example.org.'\n",
    "email_addresses = extract_emails(test_string)\n",
    "print(\"Extracted email addresses:\", email_addresses)\n"
   ]
  },
  {
   "cell_type": "code",
   "execution_count": null,
   "id": "4a0df55f-505b-4b38-8c77-ba9fd0c7bdf1",
   "metadata": {},
   "outputs": [],
   "source": []
  }
 ],
 "metadata": {
  "kernelspec": {
   "display_name": "Python 3 (ipykernel)",
   "language": "python",
   "name": "python3"
  },
  "language_info": {
   "codemirror_mode": {
    "name": "ipython",
    "version": 3
   },
   "file_extension": ".py",
   "mimetype": "text/x-python",
   "name": "python",
   "nbconvert_exporter": "python",
   "pygments_lexer": "ipython3",
   "version": "3.11.5"
  }
 },
 "nbformat": 4,
 "nbformat_minor": 5
}
