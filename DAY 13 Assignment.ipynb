{
  "nbformat": 4,
  "nbformat_minor": 0,
  "metadata": {
    "colab": {
      "provenance": []
    },
    "kernelspec": {
      "name": "python3",
      "display_name": "Python 3"
    },
    "language_info": {
      "name": "python"
    }
  },
  "cells": [
    {
      "cell_type": "code",
      "source": [
        "import spacy\n",
        "\n",
        "def pos_tagging(sentence):\n",
        "    \"\"\"\n",
        "    Performs Part-of-Speech tagging using SpaCy on the given sentence.\n",
        "\n",
        "    Args:\n",
        "        sentence (str): The input sentence to tag.\n",
        "\n",
        "    Returns:\n",
        "        None\n",
        "    \"\"\"\n",
        "\n",
        "    nlp = spacy.load(\"en_core_web_sm\")\n",
        "\n",
        "\n",
        "    doc = nlp(sentence)\n",
        "\n",
        "\n",
        "    print(f\"{'Token':<15}{'POS':<10}{'Tag':<10}\")\n",
        "    print(\"-\" * 35)\n",
        "    for token in doc:\n",
        "        print(f\"{token.text:<15}{token.pos_:<10}{token.tag_:<10}\")\n",
        "\n",
        "\n",
        "input_sentence = \"NLP is amazing and fun to learn.\"\n",
        "pos_tagging(input_sentence)\n"
      ],
      "metadata": {
        "colab": {
          "base_uri": "https://localhost:8080/"
        },
        "id": "GD-KzZvOtu0v",
        "outputId": "d23445e4-fcf8-4162-c9fe-b7268f538da4"
      },
      "execution_count": 13,
      "outputs": [
        {
          "output_type": "stream",
          "name": "stdout",
          "text": [
            "Token          POS       Tag       \n",
            "-----------------------------------\n",
            "NLP            PROPN     NNP       \n",
            "is             AUX       VBZ       \n",
            "amazing        ADJ       JJ        \n",
            "and            CCONJ     CC        \n",
            "fun            ADJ       JJ        \n",
            "to             PART      TO        \n",
            "learn          VERB      VB        \n",
            ".              PUNCT     .         \n"
          ]
        }
      ]
    },
    {
      "cell_type": "code",
      "source": [],
      "metadata": {
        "id": "HKFDJLvPuNAI"
      },
      "execution_count": null,
      "outputs": []
    }
  ]
}