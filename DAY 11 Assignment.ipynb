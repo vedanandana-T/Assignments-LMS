{
 "cells": [
  {
   "cell_type": "code",
   "execution_count": 1,
   "metadata": {},
   "outputs": [
    {
     "name": "stdout",
     "output_type": "stream",
     "text": [
      "Extracted Emails: ['support@example.com', 'sales@example.org']\n",
      "Webpage Title: Example Domain\n"
     ]
    }
   ],
   "source": [
    "import re\n",
    "import requests\n",
    "from bs4 import BeautifulSoup\n",
    "\n",
    "def extract_emails(input_string):\n",
    "    \"\"\"\n",
    "    Extracts all email addresses from the given string using regular expressions.\n",
    "\n",
    "    Args:\n",
    "        input_string (str): The string to search for email addresses.\n",
    "\n",
    "    Returns:\n",
    "        list: A list of extracted email addresses.\n",
    "    \"\"\"\n",
    "    # Regular expression pattern for email addresses\n",
    "    email_pattern = r'[a-zA-Z0-9._%+-]+@[a-zA-Z0-9.-]+\\.[a-zA-Z]{2,}'\n",
    "    return re.findall(email_pattern, input_string)\n",
    "\n",
    "def fetch_webpage_title(url):\n",
    "    \"\"\"\n",
    "    Fetches and prints the title of a webpage.\n",
    "\n",
    "    Args:\n",
    "        url (str): The URL of the webpage.\n",
    "\n",
    "    Returns:\n",
    "        str: The title of the webpage.\n",
    "    \"\"\"\n",
    "    try:\n",
    "        response = requests.get(url)\n",
    "        response.raise_for_status()\n",
    "        soup = BeautifulSoup(response.text, 'html.parser')\n",
    "        title = soup.title.string if soup.title else 'No title found'\n",
    "        return title\n",
    "    except requests.RequestException as e:\n",
    "        return f\"Error fetching the URL: {e}\"\n",
    "\n",
    "# Testing the functions\n",
    "test_string = 'contact us at support@example.com and sales@example.org'\n",
    "extracted_emails = extract_emails(test_string)\n",
    "print(\"Extracted Emails:\", extracted_emails)\n",
    "\n",
    "# Test fetch_webpage_title\n",
    "url = \"https://example.com\"\n",
    "webpage_title = fetch_webpage_title(url)\n",
    "print(\"Webpage Title:\", webpage_title)"
   ]
  }
 ],
 "metadata": {
  "kernelspec": {
   "display_name": "Python 3",
   "language": "python",
   "name": "python3"
  },
  "language_info": {
   "codemirror_mode": {
    "name": "ipython",
    "version": 3
   },
   "file_extension": ".py",
   "mimetype": "text/x-python",
   "name": "python",
   "nbconvert_exporter": "python",
   "pygments_lexer": "ipython3",
   "version": "3.12.8"
  }
 },
 "nbformat": 4,
 "nbformat_minor": 2
}
