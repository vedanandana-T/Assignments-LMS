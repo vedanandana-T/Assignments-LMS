{
  "cells": [
    {
      "cell_type": "code",
      "execution_count": 1,
      "metadata": {
        "colab": {
          "base_uri": "https://localhost:8080/"
        },
        "id": "0_onJcY8pf62",
        "outputId": "ada28c8f-cf60-42c4-dcdd-430bc12996a5"
      },
      "outputs": [
        {
          "name": "stderr",
          "output_type": "stream",
          "text": [
            "[nltk_data] Downloading package stopwords to /root/nltk_data...\n",
            "[nltk_data]   Unzipping corpora/stopwords.zip.\n"
          ]
        },
        {
          "name": "stdout",
          "output_type": "stream",
          "text": [
            "Original text: This is an example sentence demonstrating text processing with NLTK and SpaCy.\n",
            "Processed text: example sentence demonstrating text processing nltk spacy .\n"
          ]
        }
      ],
      "source": [
        "import nltk\n",
        "import spacy\n",
        "\n",
        "\n",
        "nltk.download('stopwords')\n",
        "from nltk.corpus import stopwords\n",
        "\n",
        "nlp = spacy.load(\"en_core_web_sm\")\n",
        "\n",
        "def process_text(text):\n",
        "   \n",
        "    doc = nlp(text.lower())\n",
        "\n",
        "    \n",
        "    stop_words = set(stopwords.words('english'))\n",
        "\n",
        "    \n",
        "    filtered_tokens = [token.text for token in doc if token.text not in stop_words]\n",
        "\n",
        "    \n",
        "    return \" \".join(filtered_tokens)\n",
        "\n",
        "\n",
        "text = \"This is an example sentence demonstrating text processing with NLTK and SpaCy.\"\n",
        "\n",
        "\n",
        "processed_text = process_text(text)\n",
        "print(\"Original text:\", text)\n",
        "print(\"Processed text:\", processed_text)\n"
      ]
    }
  ],
  "metadata": {
    "colab": {
      "provenance": []
    },
    "kernelspec": {
      "display_name": "Python 3",
      "name": "python3"
    },
    "language_info": {
      "name": "python"
    }
  },
  "nbformat": 4,
  "nbformat_minor": 0
}
