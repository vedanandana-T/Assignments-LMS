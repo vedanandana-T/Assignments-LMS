{
  "nbformat": 4,
  "nbformat_minor": 0,
  "metadata": {
    "colab": {
      "provenance": []
    },
    "kernelspec": {
      "name": "python3",
      "display_name": "Python 3"
    },
    "language_info": {
      "name": "python"
    }
  },
  "cells": [
    {
      "cell_type": "code",
      "source": [
        "\n",
        "import gensim\n",
        "from gensim.parsing.preprocessing import remove_stopwords\n",
        "from nltk.stem.porter import PorterStemmer\n",
        "from nltk.stem import WordNetLemmatizer\n",
        "from nltk.tokenize import word_tokenize\n",
        "import nltk\n",
        "\n",
        "\n",
        "nltk.download('punkt')\n",
        "nltk.download('wordnet')\n",
        "\n",
        "nltk.download('punkt_tab')\n",
        "\n",
        "\n",
        "def preprocess_text(file_path):\n",
        "    with open(file_path, 'r', encoding='utf-8') as file:\n",
        "        text = file.read()\n",
        "    print(\"Original Text:\\n\", text)\n",
        "    text = remove_stopwords(text)\n",
        "    print(\"\\nText after removing stopwords:\\n\", text)\n",
        "    tokens = word_tokenize(text)\n",
        "    print(\"\\nTokenized Text:\\n\", tokens)\n",
        "    stemmer = PorterStemmer()\n",
        "    stemmed_tokens = [stemmer.stem(token) for token in tokens]\n",
        "    print(\"\\nStemmed Tokens:\\n\", stemmed_tokens)\n",
        "    lemmatizer = WordNetLemmatizer()\n",
        "    lemmatized_tokens = [lemmatizer.lemmatize(token) for token in tokens]\n",
        "    print(\"\\nLemmatized Tokens:\\n\", lemmatized_tokens)\n",
        "    return lemmatized_tokens\n",
        "from google.colab import files\n",
        "file_name = \"sample.txt\"\n",
        "with open(file_name, 'w', encoding='utf-8') as file:\n",
        "    file.write(\"\"\"Gensim is a robust library for unsupervised topic modeling and natural language processing.\n",
        "    It is user-friendly and has efficient implementations.\"\"\")\n",
        "processed_tokens = preprocess_text(file_name)\n",
        "if processed_tokens:\n",
        "    print(\"\\nFinal Processed Tokens:\\n\", processed_tokens)"
      ],
      "metadata": {
        "colab": {
          "base_uri": "https://localhost:8080/"
        },
        "id": "aJK9LxAlrWAk",
        "outputId": "cc13016f-aa6f-4264-d0ed-04d92b40c459"
      },
      "execution_count": 6,
      "outputs": [
        {
          "output_type": "stream",
          "name": "stdout",
          "text": [
            "Original Text:\n",
            " Gensim is a robust library for unsupervised topic modeling and natural language processing.\n",
            "    It is user-friendly and has efficient implementations.\n",
            "\n",
            "Text after removing stopwords:\n",
            " Gensim robust library unsupervised topic modeling natural language processing. It user-friendly efficient implementations.\n",
            "\n",
            "Tokenized Text:\n",
            " ['Gensim', 'robust', 'library', 'unsupervised', 'topic', 'modeling', 'natural', 'language', 'processing', '.', 'It', 'user-friendly', 'efficient', 'implementations', '.']\n",
            "\n",
            "Stemmed Tokens:\n",
            " ['gensim', 'robust', 'librari', 'unsupervis', 'topic', 'model', 'natur', 'languag', 'process', '.', 'it', 'user-friendli', 'effici', 'implement', '.']\n",
            "\n",
            "Lemmatized Tokens:\n",
            " ['Gensim', 'robust', 'library', 'unsupervised', 'topic', 'modeling', 'natural', 'language', 'processing', '.', 'It', 'user-friendly', 'efficient', 'implementation', '.']\n",
            "\n",
            "Final Processed Tokens:\n",
            " ['Gensim', 'robust', 'library', 'unsupervised', 'topic', 'modeling', 'natural', 'language', 'processing', '.', 'It', 'user-friendly', 'efficient', 'implementation', '.']\n"
          ]
        },
        {
          "output_type": "stream",
          "name": "stderr",
          "text": [
            "[nltk_data] Downloading package punkt to /root/nltk_data...\n",
            "[nltk_data]   Package punkt is already up-to-date!\n",
            "[nltk_data] Downloading package wordnet to /root/nltk_data...\n",
            "[nltk_data]   Package wordnet is already up-to-date!\n",
            "[nltk_data] Downloading package punkt_tab to /root/nltk_data...\n",
            "[nltk_data]   Package punkt_tab is already up-to-date!\n"
          ]
        }
      ]
    },
    {
      "cell_type": "code",
      "source": [],
      "metadata": {
        "id": "uTJA8ScnrW3A"
      },
      "execution_count": null,
      "outputs": []
    }
  ]
}