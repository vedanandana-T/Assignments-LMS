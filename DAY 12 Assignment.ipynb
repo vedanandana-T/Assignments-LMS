{
 "cells": [
  {
   "cell_type": "code",
   "execution_count": 3,
   "metadata": {},
   "outputs": [
    {
     "name": "stdout",
     "output_type": "stream",
     "text": [
      "Extracted Emails: ['support@example.com', 'sales@example.org']\n",
      "Webpage Title: Example Domain\n",
      "Wordcloud saved as wordcloud.png\n"
     ]
    }
   ],
   "source": [
    "import re\n",
    "import requests\n",
    "from bs4 import BeautifulSoup\n",
    "from wordcloud import WordCloud\n",
    "import matplotlib.pyplot as plt\n",
    "\n",
    "def extract_emails(input_string):\n",
    "    \"\"\"\n",
    "    Extracts all email addresses from the given string using regular expressions.\n",
    "\n",
    "    Args:\n",
    "        input_string (str): The string to search for email addresses.\n",
    "\n",
    "    Returns:\n",
    "        list: A list of extracted email addresses.\n",
    "    \"\"\"\n",
    "    # Regular expression pattern for email addresses\n",
    "    email_pattern = r'[a-zA-Z0-9._%+-]+@[a-zA-Z0-9.-]+\\.[a-zA-Z]{2,}'\n",
    "    return re.findall(email_pattern, input_string)\n",
    "\n",
    "def fetch_webpage_title(url):\n",
    "    \"\"\"\n",
    "    Fetches and prints the title of a webpage.\n",
    "\n",
    "    Args:\n",
    "        url (str): The URL of the webpage.\n",
    "\n",
    "    Returns:\n",
    "        str: The title of the webpage.\n",
    "    \"\"\"\n",
    "    try:\n",
    "        response = requests.get(url)\n",
    "        response.raise_for_status()\n",
    "        soup = BeautifulSoup(response.text, 'html.parser')\n",
    "        title = soup.title.string if soup.title else 'No title found'\n",
    "        return title\n",
    "    except requests.RequestException as e:\n",
    "        return f\"Error fetching the URL: {e}\"\n",
    "\n",
    "def generate_wordcloud(text, output_file):\n",
    "    \"\"\"\n",
    "    Generates a wordcloud from the given text and saves it as an image.\n",
    "\n",
    "    Args:\n",
    "        text (str): The text to generate the wordcloud from.\n",
    "        output_file (str): The path to save the wordcloud image.\n",
    "    \"\"\"\n",
    "    wordcloud = WordCloud(width=800, height=400, background_color='white').generate(text)\n",
    "    wordcloud.to_file(output_file)\n",
    "    print(f\"Wordcloud saved as {output_file}\")\n",
    "\n",
    "# Testing the functions\n",
    "test_string = 'contact us at support@example.com and sales@example.org'\n",
    "extracted_emails = extract_emails(test_string)\n",
    "print(\"Extracted Emails:\", extracted_emails)\n",
    "\n",
    "# Test fetch_webpage_title\n",
    "url = \"https://example.com\"\n",
    "webpage_title = fetch_webpage_title(url)\n",
    "print(\"Webpage Title:\", webpage_title)\n",
    "\n",
    "# Generate and save wordcloud\n",
    "test_text = 'data science machine learning artificial intelligence'\n",
    "output_path = 'wordcloud.png'\n",
    "generate_wordcloud(test_text, output_path)\n"
   ]
  },
  {
   "cell_type": "code",
   "execution_count": 2,
   "metadata": {},
   "outputs": [
    {
     "name": "stdout",
     "output_type": "stream",
     "text": [
      "Collecting wordcloud\n",
      "  Downloading wordcloud-1.9.4-cp312-cp312-win_amd64.whl.metadata (3.5 kB)\n",
      "Requirement already satisfied: numpy>=1.6.1 in c:\\users\\meghana\\appdata\\roaming\\python\\python312\\site-packages (from wordcloud) (1.26.2)\n",
      "Requirement already satisfied: pillow in c:\\users\\meghana\\appdata\\roaming\\python\\python312\\site-packages (from wordcloud) (10.2.0)\n",
      "Requirement already satisfied: matplotlib in c:\\users\\meghana\\appdata\\roaming\\python\\python312\\site-packages (from wordcloud) (3.8.3)\n",
      "Requirement already satisfied: contourpy>=1.0.1 in c:\\users\\meghana\\appdata\\roaming\\python\\python312\\site-packages (from matplotlib->wordcloud) (1.2.0)\n",
      "Requirement already satisfied: cycler>=0.10 in c:\\users\\meghana\\appdata\\roaming\\python\\python312\\site-packages (from matplotlib->wordcloud) (0.12.1)\n",
      "Requirement already satisfied: fonttools>=4.22.0 in c:\\users\\meghana\\appdata\\roaming\\python\\python312\\site-packages (from matplotlib->wordcloud) (4.49.0)\n",
      "Requirement already satisfied: kiwisolver>=1.3.1 in c:\\users\\meghana\\appdata\\roaming\\python\\python312\\site-packages (from matplotlib->wordcloud) (1.4.5)\n",
      "Requirement already satisfied: packaging>=20.0 in c:\\users\\meghana\\appdata\\roaming\\python\\python312\\site-packages (from matplotlib->wordcloud) (23.2)\n",
      "Requirement already satisfied: pyparsing>=2.3.1 in c:\\users\\meghana\\appdata\\roaming\\python\\python312\\site-packages (from matplotlib->wordcloud) (3.1.1)\n",
      "Requirement already satisfied: python-dateutil>=2.7 in c:\\users\\meghana\\appdata\\roaming\\python\\python312\\site-packages (from matplotlib->wordcloud) (2.9.0)\n",
      "Requirement already satisfied: six>=1.5 in c:\\users\\meghana\\appdata\\roaming\\python\\python312\\site-packages (from python-dateutil>=2.7->matplotlib->wordcloud) (1.16.0)\n",
      "Downloading wordcloud-1.9.4-cp312-cp312-win_amd64.whl (301 kB)\n",
      "Installing collected packages: wordcloud\n",
      "Successfully installed wordcloud-1.9.4\n",
      "Note: you may need to restart the kernel to use updated packages.\n"
     ]
    }
   ],
   "source": [
    "pip install wordcloud\n"
   ]
  }
 ],
 "metadata": {
  "kernelspec": {
   "display_name": "Python 3",
   "language": "python",
   "name": "python3"
  },
  "language_info": {
   "codemirror_mode": {
    "name": "ipython",
    "version": 3
   },
   "file_extension": ".py",
   "mimetype": "text/x-python",
   "name": "python",
   "nbconvert_exporter": "python",
   "pygments_lexer": "ipython3",
   "version": "3.12.8"
  }
 },
 "nbformat": 4,
 "nbformat_minor": 2
}
