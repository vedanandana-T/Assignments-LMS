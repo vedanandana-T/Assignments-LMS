{
 "cells": [
  {
   "cell_type": "code",
   "execution_count": 5,
   "metadata": {},
   "outputs": [
    {
     "name": "stdout",
     "output_type": "stream",
     "text": [
      "\n",
      "Word Frequencies:\n",
      "enter: 1\n",
      "the: 1\n",
      "text: 1\n",
      "this: 2\n",
      "is: 2\n",
      "a: 2\n",
      "test: 2\n",
      "only: 1\n"
     ]
    }
   ],
   "source": [
    "#Write a python program to calculate the frequency of each word in a given text.Print the words and their corresponding counts\n",
    "def calculate_word_frequency(text):\n",
    "    words = text.lower().split()\n",
    "    word_count = {}\n",
    "    for word in words:\n",
    "        word = ''.join(char for char in word if char.isalnum())\n",
    "        if word in word_count:\n",
    "            word_count[word] += 1\n",
    "        else:\n",
    "            word_count[word] = 1\n",
    "    return word_count\n",
    "text = input(\"Enter the text: \")\n",
    "frequencies = calculate_word_frequency(text)\n",
    "print(\"\\nWord Frequencies:\")\n",
    "for word, count in frequencies.items():\n",
    "    print(f\"{word}: {count}\")\n",
    "\n"
   ]
  }
 ],
 "metadata": {
  "kernelspec": {
   "display_name": "Python 3",
   "language": "python",
   "name": "python3"
  },
  "language_info": {
   "codemirror_mode": {
    "name": "ipython",
    "version": 3
   },
   "file_extension": ".py",
   "mimetype": "text/x-python",
   "name": "python",
   "nbconvert_exporter": "python",
   "pygments_lexer": "ipython3",
   "version": "3.12.4"
  }
 },
 "nbformat": 4,
 "nbformat_minor": 2
}
