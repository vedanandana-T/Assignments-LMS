{
  "nbformat": 4,
  "nbformat_minor": 0,
  "metadata": {
    "colab": {
      "provenance": []
    },
    "kernelspec": {
      "name": "python3",
      "display_name": "Python 3"
    },
    "language_info": {
      "name": "python"
    }
  },
  "cells": [
    {
      "cell_type": "code",
      "source": [
        "import os\n",
        "import gensim\n",
        "from gensim.parsing.preprocessing import remove_stopwords\n",
        "from nltk.stem.porter import PorterStemmer\n",
        "from nltk.stem import WordNetLemmatizer\n",
        "from nltk.tokenize import word_tokenize\n",
        "import nltk\n",
        "\n",
        "\n",
        "nltk.download('punkt')\n",
        "nltk.download('wordnet')\n",
        "\n",
        "\n",
        "def preprocess_text(file_path):\n",
        "    if not os.path.exists(file_path):\n",
        "        print(f\"File {file_path} not found.\")\n",
        "        return\n",
        "    with open(file_path, 'r', encoding='utf-8') as file:\n",
        "        text = file.read()\n",
        "\n",
        "    print(\"Original Text:\\n\", text)\n",
        "    text = remove_stopwords(text)\n",
        "    print(\"\\nText after removing stopwords:\\n\", text)\n",
        "    tokens = word_tokenize(text)\n",
        "    print(\"\\nTokenized Text:\\n\", tokens)\n",
        "    stemmer = PorterStemmer()\n",
        "    stemmed_tokens = [stemmer.stem(token) for token in tokens]\n",
        "    print(\"\\nStemmed Tokens:\\n\", stemmed_tokens)\n",
        "\n",
        "\n",
        "    lemmatizer = WordNetLemmatizer()\n",
        "    lemmatized_tokens = [lemmatizer.lemmatize(token) for token in tokens]\n",
        "    print(\"\\nLemmatized Tokens:\\n\", lemmatized_tokens)\n",
        "    return lemmatized_tokens\n",
        "\n",
        "\n",
        "file_name = \"sample.txt\"\n",
        "if not os.path.exists(file_name):\n",
        "    with open(file_name, 'w', encoding='utf-8') as file:\n",
        "        file.write(\"\"\"Gensim is a robust library for unsupervised topic modeling and natural language processing.\n",
        "        It is user-friendly and has efficient implementations.\"\"\")\n",
        "\n",
        "    print(f\"Sample text file '{file_name}' created.\")\n",
        "processed_tokens = preprocess_text(file_name)\n",
        "if processed_tokens:\n",
        "    print(\"\\nFinal Processed Tokens:\\n\", processed_tokens)\n"
      ],
      "metadata": {
        "colab": {
          "base_uri": "https://localhost:8080/"
        },
        "id": "uTJA8ScnrW3A",
        "outputId": "c82f3a1e-8a5f-423d-8a0e-0f8ac9983b5d"
      },
      "execution_count": 8,
      "outputs": [
        {
          "output_type": "stream",
          "name": "stdout",
          "text": [
            "Original Text:\n",
            " Gensim is a robust library for unsupervised topic modeling and natural language processing.\n",
            "    It is user-friendly and has efficient implementations.\n",
            "\n",
            "Text after removing stopwords:\n",
            " Gensim robust library unsupervised topic modeling natural language processing. It user-friendly efficient implementations.\n",
            "\n",
            "Tokenized Text:\n",
            " ['Gensim', 'robust', 'library', 'unsupervised', 'topic', 'modeling', 'natural', 'language', 'processing', '.', 'It', 'user-friendly', 'efficient', 'implementations', '.']\n",
            "\n",
            "Stemmed Tokens:\n",
            " ['gensim', 'robust', 'librari', 'unsupervis', 'topic', 'model', 'natur', 'languag', 'process', '.', 'it', 'user-friendli', 'effici', 'implement', '.']\n",
            "\n",
            "Lemmatized Tokens:\n",
            " ['Gensim', 'robust', 'library', 'unsupervised', 'topic', 'modeling', 'natural', 'language', 'processing', '.', 'It', 'user-friendly', 'efficient', 'implementation', '.']\n",
            "\n",
            "Final Processed Tokens:\n",
            " ['Gensim', 'robust', 'library', 'unsupervised', 'topic', 'modeling', 'natural', 'language', 'processing', '.', 'It', 'user-friendly', 'efficient', 'implementation', '.']\n"
          ]
        },
        {
          "output_type": "stream",
          "name": "stderr",
          "text": [
            "[nltk_data] Downloading package punkt to /root/nltk_data...\n",
            "[nltk_data]   Package punkt is already up-to-date!\n",
            "[nltk_data] Downloading package wordnet to /root/nltk_data...\n",
            "[nltk_data]   Package wordnet is already up-to-date!\n"
          ]
        }
      ]
    }
  ]
}