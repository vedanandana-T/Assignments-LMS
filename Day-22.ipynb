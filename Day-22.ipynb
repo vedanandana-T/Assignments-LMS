{
 "cells": [
  {
   "cell_type": "code",
   "execution_count": 3,
   "id": "3ef25fd6",
   "metadata": {},
   "outputs": [
    {
     "name": "stdout",
     "output_type": "stream",
     "text": [
      "Token\tPOS Tag\n",
      "--------------------\n",
      "NLP\tPROPN\n",
      "is\tAUX\n",
      "amazing\tADJ\n",
      "and\tCCONJ\n",
      "fun\tADJ\n",
      "to\tPART\n",
      "learn\tVERB\n",
      ".\tPUNCT\n"
     ]
    }
   ],
   "source": [
    "import spacy\n",
    "\n",
    "def pos_tagging(sentence):\n",
    "    nlp = spacy.load(\"en_core_web_sm\")\n",
    "\n",
    "    doc = nlp(sentence)\n",
    "\n",
    "    print(\"Token\\tPOS Tag\")\n",
    "    print(\"-\" * 20)\n",
    "    for token in doc:\n",
    "        print(f\"{token.text}\\t{token.pos_}\")\n",
    "\n",
    "sentence = 'NLP is amazing and fun to learn.'\n",
    "\n",
    "pos_tagging(sentence)\n"
   ]
  },
  {
   "cell_type": "code",
   "execution_count": null,
   "id": "68f4a268",
   "metadata": {},
   "outputs": [],
   "source": []
  }
 ],
 "metadata": {
  "kernelspec": {
   "display_name": "Python 3 (ipykernel)",
   "language": "python",
   "name": "python3"
  },
  "language_info": {
   "codemirror_mode": {
    "name": "ipython",
    "version": 3
   },
   "file_extension": ".py",
   "mimetype": "text/x-python",
   "name": "python",
   "nbconvert_exporter": "python",
   "pygments_lexer": "ipython3",
   "version": "3.11.4"
  }
 },
 "nbformat": 4,
 "nbformat_minor": 5
}
